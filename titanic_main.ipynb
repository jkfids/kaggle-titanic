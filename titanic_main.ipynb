{
  "nbformat": 4,
  "nbformat_minor": 0,
  "metadata": {
    "colab": {
      "name": "titanic_main.ipynb",
      "provenance": [],
      "collapsed_sections": [],
      "toc_visible": true
    },
    "kernelspec": {
      "name": "python3",
      "display_name": "Python 3"
    }
  },
  "cells": [
    {
      "cell_type": "markdown",
      "metadata": {
        "id": "E9k5XDRmY4R_"
      },
      "source": [
        "# Titanic: Machine Learning from Disaster (TensorFlow Linear Classifier)\r\n",
        "\r\n",
        "A comprehensive analysis and machine learning modeling of Kaggle's Titanic dataset.\r\n",
        "\r\n"
      ]
    },
    {
      "cell_type": "markdown",
      "metadata": {
        "id": "jtJmk4GLZZTh"
      },
      "source": [
        "## Setup"
      ]
    },
    {
      "cell_type": "markdown",
      "metadata": {
        "id": "qJmJ2FxQyp-5"
      },
      "source": [
        "Import libraries and upload data"
      ]
    },
    {
      "cell_type": "code",
      "metadata": {
        "id": "2v0N-0egYv_X"
      },
      "source": [
        "import numpy as np\r\n",
        "import re\r\n",
        "import pandas as pd\r\n",
        "import matplotlib.pyplot as plt"
      ],
      "execution_count": 401,
      "outputs": []
    },
    {
      "cell_type": "code",
      "metadata": {
        "colab": {
          "resources": {
            "http://localhost:8080/nbextensions/google.colab/files.js": {
              "data": "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",
              "ok": true,
              "headers": [
                [
                  "content-type",
                  "application/javascript"
                ]
              ],
              "status": 200,
              "status_text": ""
            }
          },
          "base_uri": "https://localhost:8080/",
          "height": 55
        },
        "id": "S1OYlXXNE3oE",
        "outputId": "4ba175ff-1dac-4021-a9e0-4c27f4d37536"
      },
      "source": [
        "from google.colab import files\r\n",
        "files.upload()"
      ],
      "execution_count": 402,
      "outputs": [
        {
          "output_type": "display_data",
          "data": {
            "text/html": [
              "\n",
              "     <input type=\"file\" id=\"files-fc3de1a5-0416-4425-8618-ac08174af73e\" name=\"files[]\" multiple disabled\n",
              "        style=\"border:none\" />\n",
              "     <output id=\"result-fc3de1a5-0416-4425-8618-ac08174af73e\">\n",
              "      Upload widget is only available when the cell has been executed in the\n",
              "      current browser session. Please rerun this cell to enable.\n",
              "      </output>\n",
              "      <script src=\"/nbextensions/google.colab/files.js\"></script> "
            ],
            "text/plain": [
              "<IPython.core.display.HTML object>"
            ]
          },
          "metadata": {
            "tags": []
          }
        },
        {
          "output_type": "execute_result",
          "data": {
            "text/plain": [
              "{}"
            ]
          },
          "metadata": {
            "tags": []
          },
          "execution_count": 402
        }
      ]
    },
    {
      "cell_type": "markdown",
      "metadata": {
        "id": "egSn-k1Dysuh"
      },
      "source": [
        "Construct pandas dataframes from csv files and extract dependent variables (in this case, 'Survived')"
      ]
    },
    {
      "cell_type": "code",
      "metadata": {
        "id": "ZXeQn_urfjfa"
      },
      "source": [
        "dftrain = pd.read_csv('train.csv')\r\n",
        "dftest = pd.read_csv('test.csv')\r\n",
        "ytrain_all = dftrain.pop('Survived')\r\n",
        "ids = dftest['PassengerId']"
      ],
      "execution_count": 457,
      "outputs": []
    },
    {
      "cell_type": "code",
      "metadata": {
        "colab": {
          "base_uri": "https://localhost:8080/"
        },
        "id": "hf1IWXGYIecl",
        "outputId": "fd5fe841-24b2-421c-8463-a689261c75e1"
      },
      "source": [
        "ids"
      ],
      "execution_count": 458,
      "outputs": [
        {
          "output_type": "execute_result",
          "data": {
            "text/plain": [
              "0       892\n",
              "1       893\n",
              "2       894\n",
              "3       895\n",
              "4       896\n",
              "       ... \n",
              "413    1305\n",
              "414    1306\n",
              "415    1307\n",
              "416    1308\n",
              "417    1309\n",
              "Name: PassengerId, Length: 418, dtype: int64"
            ]
          },
          "metadata": {
            "tags": []
          },
          "execution_count": 458
        }
      ]
    },
    {
      "cell_type": "markdown",
      "metadata": {
        "id": "KNpHUmRNgqHu"
      },
      "source": [
        "## Data"
      ]
    },
    {
      "cell_type": "markdown",
      "metadata": {
        "id": "9ZmfKVpaJ6vF"
      },
      "source": [
        "#### Variable Notes\r\n",
        "\r\n",
        "---\r\n",
        "\r\n",
        "pclass: A proxy for socio-economic status (SES)\r\n",
        "\r\n",
        "1st = Upper\r\n",
        "\r\n",
        "2nd = Middle\r\n",
        "\r\n",
        "3rd = Lower\r\n",
        "\r\n",
        "---\r\n",
        "\r\n",
        "age: Age is fractional if less than 1. If the age is estimated, is it in the form of xx.5\r\n",
        "\r\n",
        "---\r\n",
        "\r\n",
        "sibsp: The dataset defines family relations in this way...\r\n",
        "\r\n",
        "Sibling = brother, sister, stepbrother, stepsister\r\n",
        "\r\n",
        "Spouse = husband, wife (mistresses and fiancés were ignored)\r\n",
        "\r\n",
        "---\r\n",
        "\r\n",
        "parch: The dataset defines family relations in this way...\r\n",
        "\r\n",
        "Parent = mother, father\r\n",
        "\r\n",
        "Child = daughter, son, stepdaughter, stepson\r\n",
        "\r\n",
        "Some children travelled only with a nanny, therefore parch=0 for them."
      ]
    },
    {
      "cell_type": "markdown",
      "metadata": {
        "id": "ca_Mgu1qm6jH"
      },
      "source": [
        "#### Initial Plots"
      ]
    },
    {
      "cell_type": "code",
      "metadata": {
        "colab": {
          "base_uri": "https://localhost:8080/",
          "height": 204
        },
        "id": "dzfFir_kgQG_",
        "outputId": "147cbefe-70bd-4942-ecce-c4280c161fa0"
      },
      "source": [
        "dftrain.head()"
      ],
      "execution_count": 404,
      "outputs": [
        {
          "output_type": "execute_result",
          "data": {
            "text/html": [
              "<div>\n",
              "<style scoped>\n",
              "    .dataframe tbody tr th:only-of-type {\n",
              "        vertical-align: middle;\n",
              "    }\n",
              "\n",
              "    .dataframe tbody tr th {\n",
              "        vertical-align: top;\n",
              "    }\n",
              "\n",
              "    .dataframe thead th {\n",
              "        text-align: right;\n",
              "    }\n",
              "</style>\n",
              "<table border=\"1\" class=\"dataframe\">\n",
              "  <thead>\n",
              "    <tr style=\"text-align: right;\">\n",
              "      <th></th>\n",
              "      <th>PassengerId</th>\n",
              "      <th>Pclass</th>\n",
              "      <th>Name</th>\n",
              "      <th>Sex</th>\n",
              "      <th>Age</th>\n",
              "      <th>SibSp</th>\n",
              "      <th>Parch</th>\n",
              "      <th>Ticket</th>\n",
              "      <th>Fare</th>\n",
              "      <th>Cabin</th>\n",
              "      <th>Embarked</th>\n",
              "    </tr>\n",
              "  </thead>\n",
              "  <tbody>\n",
              "    <tr>\n",
              "      <th>0</th>\n",
              "      <td>1</td>\n",
              "      <td>3</td>\n",
              "      <td>Braund, Mr. Owen Harris</td>\n",
              "      <td>male</td>\n",
              "      <td>22.0</td>\n",
              "      <td>1</td>\n",
              "      <td>0</td>\n",
              "      <td>A/5 21171</td>\n",
              "      <td>7.2500</td>\n",
              "      <td>NaN</td>\n",
              "      <td>S</td>\n",
              "    </tr>\n",
              "    <tr>\n",
              "      <th>1</th>\n",
              "      <td>2</td>\n",
              "      <td>1</td>\n",
              "      <td>Cumings, Mrs. John Bradley (Florence Briggs Th...</td>\n",
              "      <td>female</td>\n",
              "      <td>38.0</td>\n",
              "      <td>1</td>\n",
              "      <td>0</td>\n",
              "      <td>PC 17599</td>\n",
              "      <td>71.2833</td>\n",
              "      <td>C85</td>\n",
              "      <td>C</td>\n",
              "    </tr>\n",
              "    <tr>\n",
              "      <th>2</th>\n",
              "      <td>3</td>\n",
              "      <td>3</td>\n",
              "      <td>Heikkinen, Miss. Laina</td>\n",
              "      <td>female</td>\n",
              "      <td>26.0</td>\n",
              "      <td>0</td>\n",
              "      <td>0</td>\n",
              "      <td>STON/O2. 3101282</td>\n",
              "      <td>7.9250</td>\n",
              "      <td>NaN</td>\n",
              "      <td>S</td>\n",
              "    </tr>\n",
              "    <tr>\n",
              "      <th>3</th>\n",
              "      <td>4</td>\n",
              "      <td>1</td>\n",
              "      <td>Futrelle, Mrs. Jacques Heath (Lily May Peel)</td>\n",
              "      <td>female</td>\n",
              "      <td>35.0</td>\n",
              "      <td>1</td>\n",
              "      <td>0</td>\n",
              "      <td>113803</td>\n",
              "      <td>53.1000</td>\n",
              "      <td>C123</td>\n",
              "      <td>S</td>\n",
              "    </tr>\n",
              "    <tr>\n",
              "      <th>4</th>\n",
              "      <td>5</td>\n",
              "      <td>3</td>\n",
              "      <td>Allen, Mr. William Henry</td>\n",
              "      <td>male</td>\n",
              "      <td>35.0</td>\n",
              "      <td>0</td>\n",
              "      <td>0</td>\n",
              "      <td>373450</td>\n",
              "      <td>8.0500</td>\n",
              "      <td>NaN</td>\n",
              "      <td>S</td>\n",
              "    </tr>\n",
              "  </tbody>\n",
              "</table>\n",
              "</div>"
            ],
            "text/plain": [
              "   PassengerId  Pclass  ... Cabin Embarked\n",
              "0            1       3  ...   NaN        S\n",
              "1            2       1  ...   C85        C\n",
              "2            3       3  ...   NaN        S\n",
              "3            4       1  ...  C123        S\n",
              "4            5       3  ...   NaN        S\n",
              "\n",
              "[5 rows x 11 columns]"
            ]
          },
          "metadata": {
            "tags": []
          },
          "execution_count": 404
        }
      ]
    },
    {
      "cell_type": "code",
      "metadata": {
        "colab": {
          "base_uri": "https://localhost:8080/",
          "height": 204
        },
        "id": "uI1TXwopggMH",
        "outputId": "d502e2f4-ff1b-4074-e7eb-39d3563f18eb"
      },
      "source": [
        "dftest.head()"
      ],
      "execution_count": 405,
      "outputs": [
        {
          "output_type": "execute_result",
          "data": {
            "text/html": [
              "<div>\n",
              "<style scoped>\n",
              "    .dataframe tbody tr th:only-of-type {\n",
              "        vertical-align: middle;\n",
              "    }\n",
              "\n",
              "    .dataframe tbody tr th {\n",
              "        vertical-align: top;\n",
              "    }\n",
              "\n",
              "    .dataframe thead th {\n",
              "        text-align: right;\n",
              "    }\n",
              "</style>\n",
              "<table border=\"1\" class=\"dataframe\">\n",
              "  <thead>\n",
              "    <tr style=\"text-align: right;\">\n",
              "      <th></th>\n",
              "      <th>PassengerId</th>\n",
              "      <th>Pclass</th>\n",
              "      <th>Name</th>\n",
              "      <th>Sex</th>\n",
              "      <th>Age</th>\n",
              "      <th>SibSp</th>\n",
              "      <th>Parch</th>\n",
              "      <th>Ticket</th>\n",
              "      <th>Fare</th>\n",
              "      <th>Cabin</th>\n",
              "      <th>Embarked</th>\n",
              "    </tr>\n",
              "  </thead>\n",
              "  <tbody>\n",
              "    <tr>\n",
              "      <th>0</th>\n",
              "      <td>892</td>\n",
              "      <td>3</td>\n",
              "      <td>Kelly, Mr. James</td>\n",
              "      <td>male</td>\n",
              "      <td>34.5</td>\n",
              "      <td>0</td>\n",
              "      <td>0</td>\n",
              "      <td>330911</td>\n",
              "      <td>7.8292</td>\n",
              "      <td>NaN</td>\n",
              "      <td>Q</td>\n",
              "    </tr>\n",
              "    <tr>\n",
              "      <th>1</th>\n",
              "      <td>893</td>\n",
              "      <td>3</td>\n",
              "      <td>Wilkes, Mrs. James (Ellen Needs)</td>\n",
              "      <td>female</td>\n",
              "      <td>47.0</td>\n",
              "      <td>1</td>\n",
              "      <td>0</td>\n",
              "      <td>363272</td>\n",
              "      <td>7.0000</td>\n",
              "      <td>NaN</td>\n",
              "      <td>S</td>\n",
              "    </tr>\n",
              "    <tr>\n",
              "      <th>2</th>\n",
              "      <td>894</td>\n",
              "      <td>2</td>\n",
              "      <td>Myles, Mr. Thomas Francis</td>\n",
              "      <td>male</td>\n",
              "      <td>62.0</td>\n",
              "      <td>0</td>\n",
              "      <td>0</td>\n",
              "      <td>240276</td>\n",
              "      <td>9.6875</td>\n",
              "      <td>NaN</td>\n",
              "      <td>Q</td>\n",
              "    </tr>\n",
              "    <tr>\n",
              "      <th>3</th>\n",
              "      <td>895</td>\n",
              "      <td>3</td>\n",
              "      <td>Wirz, Mr. Albert</td>\n",
              "      <td>male</td>\n",
              "      <td>27.0</td>\n",
              "      <td>0</td>\n",
              "      <td>0</td>\n",
              "      <td>315154</td>\n",
              "      <td>8.6625</td>\n",
              "      <td>NaN</td>\n",
              "      <td>S</td>\n",
              "    </tr>\n",
              "    <tr>\n",
              "      <th>4</th>\n",
              "      <td>896</td>\n",
              "      <td>3</td>\n",
              "      <td>Hirvonen, Mrs. Alexander (Helga E Lindqvist)</td>\n",
              "      <td>female</td>\n",
              "      <td>22.0</td>\n",
              "      <td>1</td>\n",
              "      <td>1</td>\n",
              "      <td>3101298</td>\n",
              "      <td>12.2875</td>\n",
              "      <td>NaN</td>\n",
              "      <td>S</td>\n",
              "    </tr>\n",
              "  </tbody>\n",
              "</table>\n",
              "</div>"
            ],
            "text/plain": [
              "   PassengerId  Pclass  ... Cabin Embarked\n",
              "0          892       3  ...   NaN        Q\n",
              "1          893       3  ...   NaN        S\n",
              "2          894       2  ...   NaN        Q\n",
              "3          895       3  ...   NaN        S\n",
              "4          896       3  ...   NaN        S\n",
              "\n",
              "[5 rows x 11 columns]"
            ]
          },
          "metadata": {
            "tags": []
          },
          "execution_count": 405
        }
      ]
    },
    {
      "cell_type": "code",
      "metadata": {
        "colab": {
          "base_uri": "https://localhost:8080/",
          "height": 296
        },
        "id": "Z9tOczG4z0dd",
        "outputId": "b2841b97-5273-40c7-bf4d-c294acd51ea8"
      },
      "source": [
        "dftrain['Age'].hist(bins=80).set_xlabel('Age')"
      ],
      "execution_count": 406,
      "outputs": [
        {
          "output_type": "execute_result",
          "data": {
            "text/plain": [
              "Text(0.5, 0, 'Age')"
            ]
          },
          "metadata": {
            "tags": []
          },
          "execution_count": 406
        },
        {
          "output_type": "display_data",
          "data": {
            "image/png": "[encoded data removed]",
            "text/plain": [
              "<Figure size 432x288 with 1 Axes>"
            ]
          },
          "metadata": {
            "tags": [],
            "needs_background": "light"
          }
        }
      ]
    },
    {
      "cell_type": "code",
      "metadata": {
        "colab": {
          "base_uri": "https://localhost:8080/",
          "height": 298
        },
        "id": "nQpL6xvl1kdO",
        "outputId": "f79dfcf1-d152-4b75-e890-8bccc6a4e31a"
      },
      "source": [
        "dftrain['Fare'].hist(bins=50).set_xlabel('Fare')"
      ],
      "execution_count": 407,
      "outputs": [
        {
          "output_type": "execute_result",
          "data": {
            "text/plain": [
              "Text(0.5, 0, 'Fare')"
            ]
          },
          "metadata": {
            "tags": []
          },
          "execution_count": 407
        },
        {
          "output_type": "display_data",
          "data": {
            "image/png": "[encoded data removed]",
            "text/plain": [
              "<Figure size 432x288 with 1 Axes>"
            ]
          },
          "metadata": {
            "tags": [],
            "needs_background": "light"
          }
        }
      ]
    },
    {
      "cell_type": "code",
      "metadata": {
        "colab": {
          "base_uri": "https://localhost:8080/",
          "height": 296
        },
        "id": "4U58Vu7w0ET4",
        "outputId": "5a3246b0-9285-407b-8307-7bb4e308121b"
      },
      "source": [
        "dftrain['Sex'].value_counts().plot(kind='barh').set(xlabel=\"Population\")"
      ],
      "execution_count": 408,
      "outputs": [
        {
          "output_type": "execute_result",
          "data": {
            "text/plain": [
              "[Text(0.5, 0, 'Population')]"
            ]
          },
          "metadata": {
            "tags": []
          },
          "execution_count": 408
        },
        {
          "output_type": "display_data",
          "data": {
            "image/png": "[encoded data removed]",
            "text/plain": [
              "<Figure size 432x288 with 1 Axes>"
            ]
          },
          "metadata": {
            "tags": [],
            "needs_background": "light"
          }
        }
      ]
    },
    {
      "cell_type": "code",
      "metadata": {
        "colab": {
          "base_uri": "https://localhost:8080/",
          "height": 296
        },
        "id": "3tyGjDiA0nlN",
        "outputId": "dece5ab6-3949-442f-bcca-6b17b157ece8"
      },
      "source": [
        "dftrain['Pclass'].value_counts().plot(kind='barh').set(xlabel=\"Population\", ylabel=\"Class\")"
      ],
      "execution_count": 409,
      "outputs": [
        {
          "output_type": "execute_result",
          "data": {
            "text/plain": [
              "[Text(0, 0.5, 'Class'), Text(0.5, 0, 'Population')]"
            ]
          },
          "metadata": {
            "tags": []
          },
          "execution_count": 409
        },
        {
          "output_type": "display_data",
          "data": {
            "image/png": "[encoded data removed]",
            "text/plain": [
              "<Figure size 432x288 with 1 Axes>"
            ]
          },
          "metadata": {
            "tags": [],
            "needs_background": "light"
          }
        }
      ]
    },
    {
      "cell_type": "code",
      "metadata": {
        "colab": {
          "base_uri": "https://localhost:8080/",
          "height": 296
        },
        "id": "ylsDAckh4xJf",
        "outputId": "ae7bd9d9-011a-40f7-92a1-1b2fd0f55640"
      },
      "source": [
        "dftrain['Embarked'].value_counts().plot(kind='barh').set(xlabel=\"Population\", ylabel=\"Location Embarked From\")"
      ],
      "execution_count": 410,
      "outputs": [
        {
          "output_type": "execute_result",
          "data": {
            "text/plain": [
              "[Text(0, 0.5, 'Location Embarked From'), Text(0.5, 0, 'Population')]"
            ]
          },
          "metadata": {
            "tags": []
          },
          "execution_count": 410
        },
        {
          "output_type": "display_data",
          "data": {
            "image/png": "[encoded data removed]",
            "text/plain": [
              "<Figure size 432x288 with 1 Axes>"
            ]
          },
          "metadata": {
            "tags": [],
            "needs_background": "light"
          }
        }
      ]
    },
    {
      "cell_type": "markdown",
      "metadata": {
        "id": "6duDxy-Q5KgK"
      },
      "source": [
        "Key: C = Cherbourg, Q = Queenstown, S = Southampton"
      ]
    },
    {
      "cell_type": "code",
      "metadata": {
        "colab": {
          "base_uri": "https://localhost:8080/",
          "height": 282
        },
        "id": "aH_id9-j1f7x",
        "outputId": "2e164b1f-e75b-4353-90c5-7ee21537ac92"
      },
      "source": [
        "dftrain['SibSp'].value_counts().plot(kind='barh').set(ylabel=\"No. of Siblings & Spouses Onboard\")"
      ],
      "execution_count": 411,
      "outputs": [
        {
          "output_type": "execute_result",
          "data": {
            "text/plain": [
              "[Text(0, 0.5, 'No. of Siblings & Spouses Onboard')]"
            ]
          },
          "metadata": {
            "tags": []
          },
          "execution_count": 411
        },
        {
          "output_type": "display_data",
          "data": {
            "image/png": "[encoded data removed]",
            "text/plain": [
              "<Figure size 432x288 with 1 Axes>"
            ]
          },
          "metadata": {
            "tags": [],
            "needs_background": "light"
          }
        }
      ]
    },
    {
      "cell_type": "code",
      "metadata": {
        "colab": {
          "base_uri": "https://localhost:8080/",
          "height": 282
        },
        "id": "NV4vo8oj2sa2",
        "outputId": "379448c1-42f1-40c7-fe20-1bdbc9ab35f9"
      },
      "source": [
        "dftrain['Parch'].value_counts().plot(kind='barh').set(ylabel=\"No. of Parents & Children Onboard\")"
      ],
      "execution_count": 412,
      "outputs": [
        {
          "output_type": "execute_result",
          "data": {
            "text/plain": [
              "[Text(0, 0.5, 'No. of Parents & Children Onboard')]"
            ]
          },
          "metadata": {
            "tags": []
          },
          "execution_count": 412
        },
        {
          "output_type": "display_data",
          "data": {
            "image/png": "[encoded data removed]",
            "text/plain": [
              "<Figure size 432x288 with 1 Axes>"
            ]
          },
          "metadata": {
            "tags": [],
            "needs_background": "light"
          }
        }
      ]
    },
    {
      "cell_type": "code",
      "metadata": {
        "colab": {
          "base_uri": "https://localhost:8080/",
          "height": 296
        },
        "id": "3YwEqg2w4gq5",
        "outputId": "5d0b26a1-92d2-465e-99a1-adf60bca0d59"
      },
      "source": [
        "pd.concat([dftrain, ytrain], axis=1).groupby('Sex').Survived.mean().plot(kind='barh').set(xlabel=\"Survival Rate\")"
      ],
      "execution_count": 413,
      "outputs": [
        {
          "output_type": "execute_result",
          "data": {
            "text/plain": [
              "[Text(0.5, 0, 'Survival Rate')]"
            ]
          },
          "metadata": {
            "tags": []
          },
          "execution_count": 413
        },
        {
          "output_type": "display_data",
          "data": {
            "image/png": "[encoded data removed]",
            "text/plain": [
              "<Figure size 432x288 with 1 Axes>"
            ]
          },
          "metadata": {
            "tags": [],
            "needs_background": "light"
          }
        }
      ]
    },
    {
      "cell_type": "code",
      "metadata": {
        "colab": {
          "base_uri": "https://localhost:8080/",
          "height": 296
        },
        "id": "0SWTFd4Y5pPY",
        "outputId": "85c9a56c-de13-4688-dac2-362ec593b0e1"
      },
      "source": [
        "pd.concat([dftrain, ytrain], axis=1).groupby('Pclass').Survived.mean().plot(kind='barh').set(xlabel=\"Survival Rate\", ylabel=\"Class\")"
      ],
      "execution_count": 414,
      "outputs": [
        {
          "output_type": "execute_result",
          "data": {
            "text/plain": [
              "[Text(0, 0.5, 'Class'), Text(0.5, 0, 'Survival Rate')]"
            ]
          },
          "metadata": {
            "tags": []
          },
          "execution_count": 414
        },
        {
          "output_type": "display_data",
          "data": {
            "image/png": "[encoded data removed]",
            "text/plain": [
              "<Figure size 432x288 with 1 Axes>"
            ]
          },
          "metadata": {
            "tags": [],
            "needs_background": "light"
          }
        }
      ]
    },
    {
      "cell_type": "markdown",
      "metadata": {
        "id": "FNSdHGf93Wd_"
      },
      "source": [
        "At a first glance:\r\n",
        "*   Median age is 20-30 years\r\n",
        "*   Male population almost doubles female\r\n",
        "*   Most passengers are in third class, followed by first which is closely followed by second\r\n",
        "*   Large portion of population either with no spouses/siblings or no parents/children\r\n",
        "*   Women have a far higher survival chance than men\r\n",
        "*   Privelage of the wealthy; higher class means higher survival rate\r\n",
        "\r\n",
        "\r\n",
        "\r\n",
        "\r\n",
        "\r\n"
      ]
    },
    {
      "cell_type": "markdown",
      "metadata": {
        "id": "DuN1ltwT7nSY"
      },
      "source": [
        "## Feature Engineering\r\n",
        "\r\n",
        "Let's engineer a few additional (non-polynomial) features. Some ideas:\r\n",
        "*   What deck are they on? This corresponds to the first letter on their cabin number\r\n",
        "*   Are they alone?\r\n",
        "*   What is the total number of family members onboard? (Parch + SibSp)\r\n",
        "*   What titles do they have in their name?\r\n",
        "*   Group age into bins\r\n",
        "*   Group fares into bins\r\n",
        "\r\n",
        "Note that adding too many features can lead to high variance, which is not good for accuracy when working with small datasets.\r\n"
      ]
    },
    {
      "cell_type": "code",
      "metadata": {
        "id": "DHZPG77G8xcZ"
      },
      "source": [
        "def get_title(name):\r\n",
        "  title = re.search(' ([A-Za-z]+)\\.', name)\r\n",
        "  if title:\r\n",
        "    return title.group(1)\r\n",
        "  return np.nan\r\n",
        "\r\n",
        "def eng_features(df):\r\n",
        "  if 'Cabin' in df.columns:\r\n",
        "    df['Deck'] = df['Cabin'].str.get(0)\r\n",
        "  df['Alone'] = (df['SibSp']*df['Parch']==0)*1\r\n",
        "  df['Family'] = df['SibSp'] + df['Parch']\r\n",
        "  if 'Age' in df.columns:\r\n",
        "    df['Age Group'] = pd.cut(df['Age'], bins=[0,12,20,40,120], \r\n",
        "                          labels=['Children','Teenage','Adult','Elder'])\r\n",
        "  if 'Fare' in df.columns:\r\n",
        "    df['Fare Group'] = pd.cut(df['Fare'], bins=[-1,7.91,14.45,31,1000], \r\n",
        "                            labels=['Low','Medium','High','Very High'])\r\n",
        "  if 'Name' in df.columns:\r\n",
        "    df['Title'] = df['Name'].apply(get_title)\r\n",
        "    df['Title'] = df['Title'].replace(['Lady', 'Countess', 'Capt',\r\n",
        "          'Col', 'Don', 'Dr', 'Major', 'Rev', 'Sir', 'Jonkheer', 'Dona'], 'Rare')\r\n",
        "    df['Title'] = df['Title'].replace('Mlle', 'Miss')\r\n",
        "    df['Title'] = df['Title'].replace('Ms', 'Miss')\r\n",
        "    df['Title'] = df['Title'].replace('Mme', 'Mrs')\r\n",
        "  return df"
      ],
      "execution_count": 415,
      "outputs": []
    },
    {
      "cell_type": "code",
      "metadata": {
        "id": "WSODYYR4AKe0"
      },
      "source": [
        "dftrain = eng_features(dftrain)\r\n",
        "dftest = eng_features(dftest)"
      ],
      "execution_count": 416,
      "outputs": []
    },
    {
      "cell_type": "markdown",
      "metadata": {
        "id": "p4ApTLEvguoo"
      },
      "source": [
        "#### Missing Data\r\n",
        "\r\n",
        "Let's examine the missing data"
      ]
    },
    {
      "cell_type": "code",
      "metadata": {
        "colab": {
          "base_uri": "https://localhost:8080/"
        },
        "id": "a-cTT5UaSz0I",
        "outputId": "f713b50c-a71c-46e0-8fea-00822444c0d6"
      },
      "source": [
        "dftrain.isnull().sum() + dftest.isnull().sum()"
      ],
      "execution_count": 417,
      "outputs": [
        {
          "output_type": "execute_result",
          "data": {
            "text/plain": [
              "PassengerId       0\n",
              "Pclass            0\n",
              "Name              0\n",
              "Sex               0\n",
              "Age             263\n",
              "SibSp             0\n",
              "Parch             0\n",
              "Ticket            0\n",
              "Fare              1\n",
              "Cabin          1014\n",
              "Embarked          2\n",
              "Deck           1014\n",
              "Alone             0\n",
              "Family            0\n",
              "Age Group       263\n",
              "Fare Group        1\n",
              "Title             0\n",
              "dtype: int64"
            ]
          },
          "metadata": {
            "tags": []
          },
          "execution_count": 417
        }
      ]
    },
    {
      "cell_type": "markdown",
      "metadata": {
        "id": "2nejOgxi6u2k"
      },
      "source": [
        "We need to fill in Age, Fare, Cabin, and Embarked which automatically fill additional columns. For numerical columns, we replace NaN elements with their column's respective median value. For category columns, we introduce a new category for NaN values. Finally, remove Age, Fare, and other unneccessary features."
      ]
    },
    {
      "cell_type": "code",
      "metadata": {
        "id": "IjkmX6bk6xP9"
      },
      "source": [
        "def clean_data(df):\r\n",
        "  if {'Age', 'Fare'}.issubset(df.columns):\r\n",
        "    df['Age'] = df['Age'].fillna(df['Age'].median())\r\n",
        "    df['Fare'] = df['Fare'].fillna(df['Fare'].median())\r\n",
        "  df['Deck'] = df['Deck'].fillna('Missing')\r\n",
        "  df['Embarked'] = df['Embarked'].fillna('Stowaway')\r\n",
        "  if {'Name', 'Ticket', 'Cabin'}.issubset(df.columns):\r\n",
        "    df = df.drop(columns=['Name', 'Ticket', 'Cabin', 'PassengerId']) # Drop unecessary features\r\n",
        "  df = eng_features(df) # re-engineer features\r\n",
        "  if {'Age', 'Fare'}.issubset(df.columns):\r\n",
        "    df = df.drop(columns=['Age', 'Fare']) # Drop Age & Fare\r\n",
        "  return df\r\n",
        "\r\n",
        "dftrain = clean_data(dftrain)\r\n",
        "dftest = clean_data(dftest)"
      ],
      "execution_count": 418,
      "outputs": []
    },
    {
      "cell_type": "markdown",
      "metadata": {
        "id": "7mw7S4MQYy3N"
      },
      "source": [
        "Check that there are no longer any nan elements"
      ]
    },
    {
      "cell_type": "code",
      "metadata": {
        "colab": {
          "base_uri": "https://localhost:8080/"
        },
        "id": "tXZVGUrhXjCL",
        "outputId": "0503d4c6-8f10-42f5-80b2-1f7cc6fe3989"
      },
      "source": [
        "dftrain.isnull().sum() + dftest.isnull().sum()"
      ],
      "execution_count": 419,
      "outputs": [
        {
          "output_type": "execute_result",
          "data": {
            "text/plain": [
              "Pclass        0\n",
              "Sex           0\n",
              "SibSp         0\n",
              "Parch         0\n",
              "Embarked      0\n",
              "Deck          0\n",
              "Alone         0\n",
              "Family        0\n",
              "Age Group     0\n",
              "Fare Group    0\n",
              "Title         0\n",
              "dtype: int64"
            ]
          },
          "metadata": {
            "tags": []
          },
          "execution_count": 419
        }
      ]
    },
    {
      "cell_type": "markdown",
      "metadata": {
        "id": "sf8udcC2mbA2"
      },
      "source": [
        "#### Encoding Categorical Data\r\n",
        "\r\n",
        "Proceed to encode categorical data using sklearn's OneHotEncoder"
      ]
    },
    {
      "cell_type": "code",
      "metadata": {
        "colab": {
          "base_uri": "https://localhost:8080/",
          "height": 419
        },
        "id": "nQpOPxYLdFY-",
        "outputId": "8c8e16f7-1c8e-4e50-88aa-405b1b119aa4"
      },
      "source": [
        "dfall = pd.concat([dftrain,dftest], keys=['dftrain', 'dftest'])\r\n",
        "dfall.xs('dftrain')"
      ],
      "execution_count": 420,
      "outputs": [
        {
          "output_type": "execute_result",
          "data": {
            "text/html": [
              "<div>\n",
              "<style scoped>\n",
              "    .dataframe tbody tr th:only-of-type {\n",
              "        vertical-align: middle;\n",
              "    }\n",
              "\n",
              "    .dataframe tbody tr th {\n",
              "        vertical-align: top;\n",
              "    }\n",
              "\n",
              "    .dataframe thead th {\n",
              "        text-align: right;\n",
              "    }\n",
              "</style>\n",
              "<table border=\"1\" class=\"dataframe\">\n",
              "  <thead>\n",
              "    <tr style=\"text-align: right;\">\n",
              "      <th></th>\n",
              "      <th>Pclass</th>\n",
              "      <th>Sex</th>\n",
              "      <th>SibSp</th>\n",
              "      <th>Parch</th>\n",
              "      <th>Embarked</th>\n",
              "      <th>Deck</th>\n",
              "      <th>Alone</th>\n",
              "      <th>Family</th>\n",
              "      <th>Age Group</th>\n",
              "      <th>Fare Group</th>\n",
              "      <th>Title</th>\n",
              "    </tr>\n",
              "  </thead>\n",
              "  <tbody>\n",
              "    <tr>\n",
              "      <th>0</th>\n",
              "      <td>3</td>\n",
              "      <td>male</td>\n",
              "      <td>1</td>\n",
              "      <td>0</td>\n",
              "      <td>S</td>\n",
              "      <td>Missing</td>\n",
              "      <td>1</td>\n",
              "      <td>1</td>\n",
              "      <td>Adult</td>\n",
              "      <td>Low</td>\n",
              "      <td>Mr</td>\n",
              "    </tr>\n",
              "    <tr>\n",
              "      <th>1</th>\n",
              "      <td>1</td>\n",
              "      <td>female</td>\n",
              "      <td>1</td>\n",
              "      <td>0</td>\n",
              "      <td>C</td>\n",
              "      <td>C</td>\n",
              "      <td>1</td>\n",
              "      <td>1</td>\n",
              "      <td>Adult</td>\n",
              "      <td>Very High</td>\n",
              "      <td>Mrs</td>\n",
              "    </tr>\n",
              "    <tr>\n",
              "      <th>2</th>\n",
              "      <td>3</td>\n",
              "      <td>female</td>\n",
              "      <td>0</td>\n",
              "      <td>0</td>\n",
              "      <td>S</td>\n",
              "      <td>Missing</td>\n",
              "      <td>1</td>\n",
              "      <td>0</td>\n",
              "      <td>Adult</td>\n",
              "      <td>Medium</td>\n",
              "      <td>Miss</td>\n",
              "    </tr>\n",
              "    <tr>\n",
              "      <th>3</th>\n",
              "      <td>1</td>\n",
              "      <td>female</td>\n",
              "      <td>1</td>\n",
              "      <td>0</td>\n",
              "      <td>S</td>\n",
              "      <td>C</td>\n",
              "      <td>1</td>\n",
              "      <td>1</td>\n",
              "      <td>Adult</td>\n",
              "      <td>Very High</td>\n",
              "      <td>Mrs</td>\n",
              "    </tr>\n",
              "    <tr>\n",
              "      <th>4</th>\n",
              "      <td>3</td>\n",
              "      <td>male</td>\n",
              "      <td>0</td>\n",
              "      <td>0</td>\n",
              "      <td>S</td>\n",
              "      <td>Missing</td>\n",
              "      <td>1</td>\n",
              "      <td>0</td>\n",
              "      <td>Adult</td>\n",
              "      <td>Medium</td>\n",
              "      <td>Mr</td>\n",
              "    </tr>\n",
              "    <tr>\n",
              "      <th>...</th>\n",
              "      <td>...</td>\n",
              "      <td>...</td>\n",
              "      <td>...</td>\n",
              "      <td>...</td>\n",
              "      <td>...</td>\n",
              "      <td>...</td>\n",
              "      <td>...</td>\n",
              "      <td>...</td>\n",
              "      <td>...</td>\n",
              "      <td>...</td>\n",
              "      <td>...</td>\n",
              "    </tr>\n",
              "    <tr>\n",
              "      <th>886</th>\n",
              "      <td>2</td>\n",
              "      <td>male</td>\n",
              "      <td>0</td>\n",
              "      <td>0</td>\n",
              "      <td>S</td>\n",
              "      <td>Missing</td>\n",
              "      <td>1</td>\n",
              "      <td>0</td>\n",
              "      <td>Adult</td>\n",
              "      <td>Medium</td>\n",
              "      <td>Rare</td>\n",
              "    </tr>\n",
              "    <tr>\n",
              "      <th>887</th>\n",
              "      <td>1</td>\n",
              "      <td>female</td>\n",
              "      <td>0</td>\n",
              "      <td>0</td>\n",
              "      <td>S</td>\n",
              "      <td>B</td>\n",
              "      <td>1</td>\n",
              "      <td>0</td>\n",
              "      <td>Teenage</td>\n",
              "      <td>High</td>\n",
              "      <td>Miss</td>\n",
              "    </tr>\n",
              "    <tr>\n",
              "      <th>888</th>\n",
              "      <td>3</td>\n",
              "      <td>female</td>\n",
              "      <td>1</td>\n",
              "      <td>2</td>\n",
              "      <td>S</td>\n",
              "      <td>Missing</td>\n",
              "      <td>0</td>\n",
              "      <td>3</td>\n",
              "      <td>Adult</td>\n",
              "      <td>High</td>\n",
              "      <td>Miss</td>\n",
              "    </tr>\n",
              "    <tr>\n",
              "      <th>889</th>\n",
              "      <td>1</td>\n",
              "      <td>male</td>\n",
              "      <td>0</td>\n",
              "      <td>0</td>\n",
              "      <td>C</td>\n",
              "      <td>C</td>\n",
              "      <td>1</td>\n",
              "      <td>0</td>\n",
              "      <td>Adult</td>\n",
              "      <td>High</td>\n",
              "      <td>Mr</td>\n",
              "    </tr>\n",
              "    <tr>\n",
              "      <th>890</th>\n",
              "      <td>3</td>\n",
              "      <td>male</td>\n",
              "      <td>0</td>\n",
              "      <td>0</td>\n",
              "      <td>Q</td>\n",
              "      <td>Missing</td>\n",
              "      <td>1</td>\n",
              "      <td>0</td>\n",
              "      <td>Adult</td>\n",
              "      <td>Low</td>\n",
              "      <td>Mr</td>\n",
              "    </tr>\n",
              "  </tbody>\n",
              "</table>\n",
              "<p>891 rows × 11 columns</p>\n",
              "</div>"
            ],
            "text/plain": [
              "     Pclass     Sex  SibSp  Parch  ... Family Age Group  Fare Group  Title\n",
              "0         3    male      1      0  ...      1     Adult         Low     Mr\n",
              "1         1  female      1      0  ...      1     Adult   Very High    Mrs\n",
              "2         3  female      0      0  ...      0     Adult      Medium   Miss\n",
              "3         1  female      1      0  ...      1     Adult   Very High    Mrs\n",
              "4         3    male      0      0  ...      0     Adult      Medium     Mr\n",
              "..      ...     ...    ...    ...  ...    ...       ...         ...    ...\n",
              "886       2    male      0      0  ...      0     Adult      Medium   Rare\n",
              "887       1  female      0      0  ...      0   Teenage        High   Miss\n",
              "888       3  female      1      2  ...      3     Adult        High   Miss\n",
              "889       1    male      0      0  ...      0     Adult        High     Mr\n",
              "890       3    male      0      0  ...      0     Adult         Low     Mr\n",
              "\n",
              "[891 rows x 11 columns]"
            ]
          },
          "metadata": {
            "tags": []
          },
          "execution_count": 420
        }
      ]
    },
    {
      "cell_type": "code",
      "metadata": {
        "id": "rKPmzW2FqUD6"
      },
      "source": [
        "from sklearn.compose import ColumnTransformer\r\n",
        "from sklearn.preprocessing import OneHotEncoder\r\n",
        "\r\n",
        "# \r\n",
        "def encode_categ(df):\r\n",
        "  categorical_columns = ['Pclass','Sex','Embarked','Deck', 'Age Group', 'Fare Group', 'Title']\r\n",
        "  # 'passthrough' retains other featuer columns\r\n",
        "  ct = ColumnTransformer(transformers=[('encoder', OneHotEncoder(), categorical_columns)], remainder='passthrough')\r\n",
        "  M = ct.fit_transform(df)\r\n",
        "  return M\r\n",
        "\r\n",
        "Xtrain = encode_categ(dftrain)\r\n",
        "Xtest = encode_categ(dftest)"
      ],
      "execution_count": 421,
      "outputs": []
    },
    {
      "cell_type": "code",
      "metadata": {
        "id": "wZQdT_EldzYP"
      },
      "source": [
        "from sklearn.compose import ColumnTransformer\r\n",
        "from sklearn.preprocessing import OneHotEncoder\r\n",
        "\r\n",
        "def encode_categ(dftrain, dftest):\r\n",
        "  # Concantenate dftrain and dfall to ensure column correspondence\r\n",
        "  dfall = pd.concat([dftrain, dftest])\r\n",
        "  categorical_columns = ['Pclass','Sex','Embarked','Deck', 'Age Group', 'Fare Group', 'Title']\r\n",
        "  # 'passthrough' retains other featuer columns\r\n",
        "  ct = ColumnTransformer(transformers=[('encoder', OneHotEncoder(), categorical_columns)], remainder='passthrough')\r\n",
        "  dfall_np = ct.fit_transform(dfall)\r\n",
        "  Xtrain = dfall_np[:dftrain.shape[0],:]\r\n",
        "  Xtest = dfall_np[dftrain.shape[0]:,:]\r\n",
        "  return Xtrain, Xtest\r\n",
        "\r\n",
        "Xtrain_all, Xtest = encode_categ(dftrain, dftest)"
      ],
      "execution_count": 422,
      "outputs": []
    },
    {
      "cell_type": "code",
      "metadata": {
        "colab": {
          "base_uri": "https://localhost:8080/"
        },
        "id": "VLlk3Lgai65I",
        "outputId": "07701cd4-3a4d-44a0-b071-2bc5e5900459"
      },
      "source": [
        "ytrain.shape"
      ],
      "execution_count": 423,
      "outputs": [
        {
          "output_type": "execute_result",
          "data": {
            "text/plain": [
              "(623,)"
            ]
          },
          "metadata": {
            "tags": []
          },
          "execution_count": 423
        }
      ]
    },
    {
      "cell_type": "markdown",
      "metadata": {
        "id": "hZ0ucaFnnCyX"
      },
      "source": [
        "## Models\n",
        "\n",
        "Now that we have analyzed and cleaned the data, as well as performed feature analysis, we move on to model selection. There are a variety of machine learning models that may be implemented to predict the survivability outcome, so we will test a number of well known models and compare performance."
      ]
    },
    {
      "cell_type": "markdown",
      "metadata": {
        "id": "5K7qeOwBtqgH"
      },
      "source": [
        "Let us implement 6 different ML models:\r\n",
        "\r\n",
        "1.   Logistic Regression\r\n",
        "2.   K-Nearest Neighbours (KNN) Classifier\r\n",
        "3.   Support Vector Machine (SVM)\r\n",
        "4.   Naive Bayes\r\n",
        "5.   Decision Tree Classification\r\n",
        "6.   Random Forest Classification"
      ]
    },
    {
      "cell_type": "code",
      "metadata": {
        "id": "iMmp3yocvbyT"
      },
      "source": [
        "from sklearn.model_selection import train_test_split\r\n",
        "\r\n",
        "from sklearn.linear_model import LogisticRegression\r\n",
        "from sklearn.neighbors import KNeighborsClassifier\r\n",
        "from sklearn.svm import SVC\r\n",
        "from sklearn.naive_bayes import GaussianNB\r\n",
        "from sklearn.tree import DecisionTreeClassifier\r\n",
        "from sklearn.ensemble import RandomForestClassifier\r\n",
        "\r\n",
        "from sklearn.metrics import accuracy_score\r\n",
        "\r\n",
        "from sklearn.model_selection import GridSearchCV"
      ],
      "execution_count": 424,
      "outputs": []
    },
    {
      "cell_type": "markdown",
      "metadata": {
        "id": "BeGBE2pgrCed"
      },
      "source": [
        "We will construct a function that splits and shuffles our training set into a training set and evaluation set. It then trains and evaluates the accuracy of the input model several times over a loop and returns the mean accuracy."
      ]
    },
    {
      "cell_type": "code",
      "metadata": {
        "id": "i1lfL3pWodid"
      },
      "source": [
        "def mean_accuracy(model, n=100):\r\n",
        "  accuracy_arr = np.array([])\r\n",
        "  for i in range(n):\r\n",
        "    Xtrain, Xeval, ytrain, yeval = train_test_split(Xtrain_all, ytrain_all, test_size = 0.3)\r\n",
        "    model.fit(Xtrain, ytrain)\r\n",
        "    prediction = model.predict(Xeval)\r\n",
        "    accuracy = accuracy_score(prediction, yeval)\r\n",
        "    accuracy_arr = np.append(accuracy_arr, accuracy)\r\n",
        "  return accuracy_arr.mean()"
      ],
      "execution_count": 425,
      "outputs": []
    },
    {
      "cell_type": "markdown",
      "metadata": {
        "id": "JCnWnnlrs1nt"
      },
      "source": [
        "#### Logistic Regression"
      ]
    },
    {
      "cell_type": "code",
      "metadata": {
        "colab": {
          "base_uri": "https://localhost:8080/"
        },
        "id": "ZHfEzLNpoVwl",
        "outputId": "8a0328f3-0a77-4c29-f309-2b6ba7b750e1"
      },
      "source": [
        "model = LogisticRegression()\r\n",
        "accuracy_lr = mean_accuracy(model)\r\n",
        "print(f'Logistic regression classifier achieves an average accuracy of {round(accuracy_lr,4)*100}%')"
      ],
      "execution_count": 435,
      "outputs": [
        {
          "output_type": "stream",
          "text": [
            "Logistic regression classifier achieves an average accuracy of 83.00999999999999%\n"
          ],
          "name": "stdout"
        }
      ]
    },
    {
      "cell_type": "markdown",
      "metadata": {
        "id": "TppdZTErwhya"
      },
      "source": [
        "#### K-Nearest Neighbours"
      ]
    },
    {
      "cell_type": "code",
      "metadata": {
        "colab": {
          "base_uri": "https://localhost:8080/"
        },
        "id": "cWY2nhYuwp1Q",
        "outputId": "c2c356ce-6c76-4517-995a-f66c8ed6d2f6"
      },
      "source": [
        "model = KNeighborsClassifier(n_neighbors = 10)\r\n",
        "accuracy_knn = mean_accuracy(model)\r\n",
        "\r\n",
        "print(f'KNN classifier achieves an accuracy of {round(accuracy_knn,4)*100}%')"
      ],
      "execution_count": 427,
      "outputs": [
        {
          "output_type": "stream",
          "text": [
            "KNN classifier achieves an accuracy of 81.17999999999999%\n"
          ],
          "name": "stdout"
        }
      ]
    },
    {
      "cell_type": "markdown",
      "metadata": {
        "id": "4zzXTtfVxQut"
      },
      "source": [
        "#### Support Vector Machine"
      ]
    },
    {
      "cell_type": "code",
      "metadata": {
        "colab": {
          "base_uri": "https://localhost:8080/"
        },
        "id": "bZ9n_l2BxSzP",
        "outputId": "4bc7c19a-09e0-4c31-92c2-ed5a65124ea3"
      },
      "source": [
        "model = SVC()\r\n",
        "accuracy_svm = mean_accuracy(model)\r\n",
        "\r\n",
        "print(f'SVM classifier achieves an accuracy of {round(accuracy_svm,4)*100}%')"
      ],
      "execution_count": 434,
      "outputs": [
        {
          "output_type": "stream",
          "text": [
            "SVM classifier achieves an accuracy of 83.27%\n"
          ],
          "name": "stdout"
        }
      ]
    },
    {
      "cell_type": "markdown",
      "metadata": {
        "id": "X87eu-rMyF8g"
      },
      "source": [
        "#### Naive Bayes (Gaussian)"
      ]
    },
    {
      "cell_type": "code",
      "metadata": {
        "colab": {
          "base_uri": "https://localhost:8080/"
        },
        "id": "ugIz5hzfyFYC",
        "outputId": "c3199606-ef4e-4d37-e2cc-fc4cff386c87"
      },
      "source": [
        "model = GaussianNB()\r\n",
        "accuracy_nb = mean_accuracy(model)\r\n",
        "\r\n",
        "print(f'Naive Bayes classifier achieves an accuracy of {round(accuracy_nb,4)*100}%')"
      ],
      "execution_count": 429,
      "outputs": [
        {
          "output_type": "stream",
          "text": [
            "Naive Bayes classifier achieves an accuracy of 76.7%\n"
          ],
          "name": "stdout"
        }
      ]
    },
    {
      "cell_type": "markdown",
      "metadata": {
        "id": "wYYJeGgz171o"
      },
      "source": [
        "#### Decision Tree"
      ]
    },
    {
      "cell_type": "code",
      "metadata": {
        "colab": {
          "base_uri": "https://localhost:8080/"
        },
        "id": "ghkyK0BP1_ld",
        "outputId": "d507e505-7b73-452b-dafa-0e13c31499a3"
      },
      "source": [
        "model = DecisionTreeClassifier()\r\n",
        "accuracy_dt = mean_accuracy(model)\r\n",
        "\r\n",
        "print(f'Decision Tree classifier achieves an accuracy of {round(accuracy_dt,4)*100}%')"
      ],
      "execution_count": 430,
      "outputs": [
        {
          "output_type": "stream",
          "text": [
            "Decision Tree classifier achieves an accuracy of 79.86%\n"
          ],
          "name": "stdout"
        }
      ]
    },
    {
      "cell_type": "markdown",
      "metadata": {
        "id": "RSSeTp10tGat"
      },
      "source": [
        "#### Random Forest Classifier"
      ]
    },
    {
      "cell_type": "code",
      "metadata": {
        "colab": {
          "base_uri": "https://localhost:8080/"
        },
        "id": "h9nol0uxs-dm",
        "outputId": "76bbca06-a694-4ae8-e8e3-800f2646932b"
      },
      "source": [
        "model = RandomForestClassifier(criterion='gini', n_estimators=700,\r\n",
        "                             min_samples_split=10,min_samples_leaf=1,\r\n",
        "                             max_features='auto',oob_score=True,\r\n",
        "                             random_state=1,n_jobs=-1)\r\n",
        "\r\n",
        "accuracy_rf = mean_accuracy(model)\r\n",
        "\r\n",
        "print(f'Random Forest classifier achieves an accuracy of {round(accuracy_rf,4)*100}%')"
      ],
      "execution_count": 431,
      "outputs": [
        {
          "output_type": "stream",
          "text": [
            "Random Forest classifier achieves an accuracy of 82.34%\n"
          ],
          "name": "stdout"
        }
      ]
    },
    {
      "cell_type": "markdown",
      "metadata": {
        "id": "Mb50L70A2qH3"
      },
      "source": [
        "## Model Selection"
      ]
    },
    {
      "cell_type": "markdown",
      "metadata": {
        "id": "f3SNcVOE4gcN"
      },
      "source": [
        "#### Model Comparison\r\n",
        "\r\n",
        "Let's compare the models we've tested so far."
      ]
    },
    {
      "cell_type": "code",
      "metadata": {
        "colab": {
          "base_uri": "https://localhost:8080/",
          "height": 235
        },
        "id": "3MPbt00u27vl",
        "outputId": "51eb34d0-0bf3-47c4-8b7c-1b1f6f0f892a"
      },
      "source": [
        "models = pd.DataFrame({\r\n",
        "    'Model': ['Logistic Regression', 'KNN', 'SVM',\r\n",
        "              'Naive Bayes', 'Decision Tree', 'Random Forest'],\r\n",
        "    'Accuracy': [accuracy_lr, accuracy_knn, accuracy_svm,\r\n",
        "              accuracy_nb, accuracy_dt, accuracy_rf]})\r\n",
        "models.sort_values(by='Accuracy',ascending=False)"
      ],
      "execution_count": 436,
      "outputs": [
        {
          "output_type": "execute_result",
          "data": {
            "text/html": [
              "<div>\n",
              "<style scoped>\n",
              "    .dataframe tbody tr th:only-of-type {\n",
              "        vertical-align: middle;\n",
              "    }\n",
              "\n",
              "    .dataframe tbody tr th {\n",
              "        vertical-align: top;\n",
              "    }\n",
              "\n",
              "    .dataframe thead th {\n",
              "        text-align: right;\n",
              "    }\n",
              "</style>\n",
              "<table border=\"1\" class=\"dataframe\">\n",
              "  <thead>\n",
              "    <tr style=\"text-align: right;\">\n",
              "      <th></th>\n",
              "      <th>Model</th>\n",
              "      <th>Accuracy</th>\n",
              "    </tr>\n",
              "  </thead>\n",
              "  <tbody>\n",
              "    <tr>\n",
              "      <th>2</th>\n",
              "      <td>SVM</td>\n",
              "      <td>0.832724</td>\n",
              "    </tr>\n",
              "    <tr>\n",
              "      <th>0</th>\n",
              "      <td>Logistic Regression</td>\n",
              "      <td>0.830075</td>\n",
              "    </tr>\n",
              "    <tr>\n",
              "      <th>5</th>\n",
              "      <td>Random Forest</td>\n",
              "      <td>0.823358</td>\n",
              "    </tr>\n",
              "    <tr>\n",
              "      <th>1</th>\n",
              "      <td>KNN</td>\n",
              "      <td>0.811828</td>\n",
              "    </tr>\n",
              "    <tr>\n",
              "      <th>4</th>\n",
              "      <td>Decision Tree</td>\n",
              "      <td>0.798582</td>\n",
              "    </tr>\n",
              "    <tr>\n",
              "      <th>3</th>\n",
              "      <td>Naive Bayes</td>\n",
              "      <td>0.766978</td>\n",
              "    </tr>\n",
              "  </tbody>\n",
              "</table>\n",
              "</div>"
            ],
            "text/plain": [
              "                 Model  Accuracy\n",
              "2                  SVM  0.832724\n",
              "0  Logistic Regression  0.830075\n",
              "5        Random Forest  0.823358\n",
              "1                  KNN  0.811828\n",
              "4        Decision Tree  0.798582\n",
              "3          Naive Bayes  0.766978"
            ]
          },
          "metadata": {
            "tags": []
          },
          "execution_count": 436
        }
      ]
    },
    {
      "cell_type": "markdown",
      "metadata": {
        "id": "y_nuBBjv4BIM"
      },
      "source": [
        "Both logistic regression and SVM achieve roughly the highest accuracy, with random forest following.\r\n",
        "\r\n",
        "The classifiers imported from sklearn are a sort of blackbox with tunable parameters that impact model performance. By employing GridSearchCV, we can further tune this parameters space to ensure the highest accuracy model. On the otherhand, beware of overfitting due to over-tuning parameters."
      ]
    },
    {
      "cell_type": "code",
      "metadata": {
        "id": "w-9tMnLg7-5u"
      },
      "source": [
        "# LogisticRegression().get_params()\r\n",
        "# SVC().get_params()\r\n",
        "# RandomForestClassifier().get_params()"
      ],
      "execution_count": null,
      "outputs": []
    },
    {
      "cell_type": "markdown",
      "metadata": {
        "id": "K4QDgszbAMKF"
      },
      "source": [
        "#### Logistic Regression Parameters Tuning"
      ]
    },
    {
      "cell_type": "code",
      "metadata": {
        "colab": {
          "base_uri": "https://localhost:8080/"
        },
        "id": "x756wQYK7z9F",
        "outputId": "728f5dd5-5bae-48d4-cc15-4ac8be86b986"
      },
      "source": [
        "model = LogisticRegression()\r\n",
        "param_grid = {'C': [1, 10, 50, 100, 200, 300, 1000],\r\n",
        "              'fit_intercept': [True, False]}\r\n",
        "\r\n",
        "model_lr = GridSearchCV(model, param_grid = param_grid, cv=5, scoring=\"accuracy\", n_jobs= 4, verbose = 1)\r\n",
        "\r\n",
        "Xtrain, Xeval, ytrain, yeval = train_test_split(Xtrain_all, ytrain_all, test_size = 0.3)\r\n",
        "model_lr.fit(Xtrain, ytrain)\r\n",
        "\r\n",
        "# Best parameters\r\n",
        "print(model_lr.best_estimator_)\r\n",
        "\r\n",
        "# Best score\r\n",
        "print(f'Ideal LR parameters achieve an accuracy of {round(model_lr.best_score_,4)*100}%')"
      ],
      "execution_count": 438,
      "outputs": [
        {
          "output_type": "stream",
          "text": [
            "Fitting 5 folds for each of 14 candidates, totalling 70 fits\n"
          ],
          "name": "stdout"
        },
        {
          "output_type": "stream",
          "text": [
            "[Parallel(n_jobs=4)]: Using backend LokyBackend with 4 concurrent workers.\n",
            "[Parallel(n_jobs=4)]: Done  42 tasks      | elapsed:    3.3s\n"
          ],
          "name": "stderr"
        },
        {
          "output_type": "stream",
          "text": [
            "LogisticRegression(C=1, class_weight=None, dual=False, fit_intercept=False,\n",
            "                   intercept_scaling=1, l1_ratio=None, max_iter=100,\n",
            "                   multi_class='auto', n_jobs=None, penalty='l2',\n",
            "                   random_state=None, solver='lbfgs', tol=0.0001, verbose=0,\n",
            "                   warm_start=False)\n",
            "Ideal LR parameters achieve an accuracy of 82.82000000000001%\n"
          ],
          "name": "stdout"
        },
        {
          "output_type": "stream",
          "text": [
            "[Parallel(n_jobs=4)]: Done  63 out of  70 | elapsed:    3.8s remaining:    0.4s\n",
            "[Parallel(n_jobs=4)]: Done  70 out of  70 | elapsed:    3.9s finished\n"
          ],
          "name": "stderr"
        }
      ]
    },
    {
      "cell_type": "code",
      "metadata": {
        "colab": {
          "base_uri": "https://localhost:8080/"
        },
        "id": "5OrcDUq7CNnV",
        "outputId": "f2de22c8-2d1f-4f62-f4bc-a91c1452b1b5"
      },
      "source": [
        "model = LogisticRegression(C=1, class_weight=None, dual=False, fit_intercept=True,\r\n",
        "                   intercept_scaling=1, l1_ratio=None, max_iter=100,\r\n",
        "                   multi_class='auto', n_jobs=None, penalty='l2',\r\n",
        "                   random_state=None, solver='lbfgs', tol=0.0001, verbose=0,\r\n",
        "                   warm_start=False)\r\n",
        "\r\n",
        "accuracy_lr_tuned = mean_accuracy(model)\r\n",
        "print(f'Fine-Tuned SVM classifier achieves an accuracy of {round(accuracy_lr_tuned,4)*100}%')"
      ],
      "execution_count": 447,
      "outputs": [
        {
          "output_type": "stream",
          "text": [
            "Fine-Tuned SVM classifier achieves an accuracy of 82.52000000000001%\n"
          ],
          "name": "stdout"
        }
      ]
    },
    {
      "cell_type": "markdown",
      "metadata": {
        "id": "JiKZeuwMAWJ0"
      },
      "source": [
        "#### SVM Parameters Tuning"
      ]
    },
    {
      "cell_type": "code",
      "metadata": {
        "colab": {
          "base_uri": "https://localhost:8080/"
        },
        "id": "OWWmeKJJ5Z8W",
        "outputId": "1b8aacce-d9a1-4d51-935c-ec8b6ca995d2"
      },
      "source": [
        "model = SVC()\r\n",
        "param_grid = {'kernel': ['rbf', 'linear'], \r\n",
        "              'gamma': [ 0.001, 0.01, 0.1, 1],\r\n",
        "              'C': [1, 10, 50, 100, 200, 300, 1000]}\r\n",
        "\r\n",
        "model_svm = GridSearchCV(model, param_grid = param_grid, cv=5, scoring=\"accuracy\", n_jobs= 4, verbose = 1)\r\n",
        "\r\n",
        "Xtrain, Xeval, ytrain, yeval = train_test_split(Xtrain_all, ytrain_all, test_size = 0.3)\r\n",
        "model_svm.fit(Xtrain, ytrain)\r\n",
        "\r\n",
        "# Best parameters\r\n",
        "print(model_svm.best_estimator_)\r\n",
        "\r\n",
        "# Best score\r\n",
        "print(f'Ideal SVM parameters achieve an accuracy of {round(model_svm.best_score_,4)*100}%')"
      ],
      "execution_count": 440,
      "outputs": [
        {
          "output_type": "stream",
          "text": [
            "Fitting 5 folds for each of 56 candidates, totalling 280 fits\n"
          ],
          "name": "stdout"
        },
        {
          "output_type": "stream",
          "text": [
            "[Parallel(n_jobs=4)]: Using backend LokyBackend with 4 concurrent workers.\n",
            "[Parallel(n_jobs=4)]: Done 128 tasks      | elapsed:    4.0s\n"
          ],
          "name": "stderr"
        },
        {
          "output_type": "stream",
          "text": [
            "SVC(C=10, break_ties=False, cache_size=200, class_weight=None, coef0=0.0,\n",
            "    decision_function_shape='ovr', degree=3, gamma=0.1, kernel='rbf',\n",
            "    max_iter=-1, probability=False, random_state=None, shrinking=True,\n",
            "    tol=0.001, verbose=False)\n",
            "Ideal SVM parameters achieve an accuracy of 82.66%\n"
          ],
          "name": "stdout"
        },
        {
          "output_type": "stream",
          "text": [
            "[Parallel(n_jobs=4)]: Done 280 out of 280 | elapsed:   45.7s finished\n"
          ],
          "name": "stderr"
        }
      ]
    },
    {
      "cell_type": "code",
      "metadata": {
        "colab": {
          "base_uri": "https://localhost:8080/"
        },
        "id": "eyocoC7vAggV",
        "outputId": "89e4056c-21fa-4063-a012-8d2b867f489c"
      },
      "source": [
        "model = SVC(C=100, break_ties=False, cache_size=200, class_weight=None, coef0=0.0,\r\n",
        "    decision_function_shape='ovr', degree=3, gamma=0.01, kernel='rbf',\r\n",
        "    max_iter=-1, probability=False, random_state=None, shrinking=True,\r\n",
        "    tol=0.001, verbose=False)\r\n",
        "\r\n",
        "accuracy_svm_tuned = mean_accuracy(model)\r\n",
        "print(f'Fine-Tuned SVM classifier achieves an accuracy of {round(accuracy_svm_tuned,4)*100}%')"
      ],
      "execution_count": 446,
      "outputs": [
        {
          "output_type": "stream",
          "text": [
            "Fine-Tuned SVM classifier achieves an accuracy of 82.53%\n"
          ],
          "name": "stdout"
        }
      ]
    },
    {
      "cell_type": "markdown",
      "metadata": {
        "id": "JT6rSmDTAYuM"
      },
      "source": [
        "#### Random Forest Parameters Tuning"
      ]
    },
    {
      "cell_type": "code",
      "metadata": {
        "colab": {
          "base_uri": "https://localhost:8080/"
        },
        "id": "dMbIDZsm6-7s",
        "outputId": "4fd2b71e-cc87-4afe-98ac-77ba02c8bbb3"
      },
      "source": [
        "model = RandomForestClassifier()\r\n",
        "n_estim = range(100, 1000, 100)\r\n",
        "param_grid = {'n_estimators' : n_estim}\r\n",
        "\r\n",
        "model_rf = GridSearchCV(model, param_grid = param_grid, cv=5, scoring=\"accuracy\", n_jobs= 4, verbose = 1)\r\n",
        "\r\n",
        "Xtrain, Xeval, ytrain, yeval = train_test_split(Xtrain_all, ytrain_all, test_size = 0.3)\r\n",
        "model_rf.fit(Xtrain, ytrain)\r\n",
        "\r\n",
        "# Best parameters\r\n",
        "print(model_rf.best_estimator_)\r\n",
        "\r\n",
        "# Best score\r\n",
        "print(f'Ideal RF parameters achieve an accuracy of {round(model_rf.best_score_,4)*100}%')"
      ],
      "execution_count": 442,
      "outputs": [
        {
          "output_type": "stream",
          "text": [
            "Fitting 5 folds for each of 9 candidates, totalling 45 fits\n"
          ],
          "name": "stdout"
        },
        {
          "output_type": "stream",
          "text": [
            "[Parallel(n_jobs=4)]: Using backend LokyBackend with 4 concurrent workers.\n",
            "[Parallel(n_jobs=4)]: Done  45 out of  45 | elapsed:   32.5s finished\n"
          ],
          "name": "stderr"
        },
        {
          "output_type": "stream",
          "text": [
            "RandomForestClassifier(bootstrap=True, ccp_alpha=0.0, class_weight=None,\n",
            "                       criterion='gini', max_depth=None, max_features='auto',\n",
            "                       max_leaf_nodes=None, max_samples=None,\n",
            "                       min_impurity_decrease=0.0, min_impurity_split=None,\n",
            "                       min_samples_leaf=1, min_samples_split=2,\n",
            "                       min_weight_fraction_leaf=0.0, n_estimators=500,\n",
            "                       n_jobs=None, oob_score=False, random_state=None,\n",
            "                       verbose=0, warm_start=False)\n",
            "Ideal RF parameters achieve an accuracy of 83.94%\n"
          ],
          "name": "stdout"
        }
      ]
    },
    {
      "cell_type": "code",
      "metadata": {
        "colab": {
          "base_uri": "https://localhost:8080/"
        },
        "id": "H-PwJJSVCB2V",
        "outputId": "8eb82c51-a5e0-4561-f01a-f19dd2112deb"
      },
      "source": [
        "model = RandomForestClassifier(bootstrap=True, ccp_alpha=0.0, class_weight=None,\r\n",
        "                       criterion='gini', max_depth=None, max_features='auto',\r\n",
        "                       max_leaf_nodes=None, max_samples=None,\r\n",
        "                       min_impurity_decrease=0.0, min_impurity_split=None,\r\n",
        "                       min_samples_leaf=1, min_samples_split=2,\r\n",
        "                       min_weight_fraction_leaf=0.0, n_estimators=900,\r\n",
        "                       n_jobs=None, oob_score=False, random_state=None,\r\n",
        "                       verbose=0, warm_start=False)\r\n",
        "\r\n",
        "accuracy_rf_tuned = mean_accuracy(model)\r\n",
        "print(f'Fine-Tuned Random Forest classifier achieves an accuracy of {round(accuracy_rf_tuned,4)*100}%')"
      ],
      "execution_count": 443,
      "outputs": [
        {
          "output_type": "stream",
          "text": [
            "Fine-Tuned Random Forest classifier achieves an accuracy of 81.67%\n"
          ],
          "name": "stdout"
        }
      ]
    },
    {
      "cell_type": "markdown",
      "metadata": {
        "id": "oZF2SHutHKFk"
      },
      "source": [
        "#### Final Comparison"
      ]
    },
    {
      "cell_type": "code",
      "metadata": {
        "colab": {
          "base_uri": "https://localhost:8080/",
          "height": 142
        },
        "id": "9RToautMFIHs",
        "outputId": "4987163e-9b3d-443d-f895-2783bed0d1ca"
      },
      "source": [
        "models = pd.DataFrame({\r\n",
        "    'Hyper-Tuned Model': ['Logistic Regression', 'SVM', 'Random Forest'],\r\n",
        "    'Accuracy': [accuracy_lr_tuned, accuracy_svm_tuned, accuracy_rf_tuned]})\r\n",
        "models.sort_values(by='Accuracy',ascending=False)"
      ],
      "execution_count": 448,
      "outputs": [
        {
          "output_type": "execute_result",
          "data": {
            "text/html": [
              "<div>\n",
              "<style scoped>\n",
              "    .dataframe tbody tr th:only-of-type {\n",
              "        vertical-align: middle;\n",
              "    }\n",
              "\n",
              "    .dataframe tbody tr th {\n",
              "        vertical-align: top;\n",
              "    }\n",
              "\n",
              "    .dataframe thead th {\n",
              "        text-align: right;\n",
              "    }\n",
              "</style>\n",
              "<table border=\"1\" class=\"dataframe\">\n",
              "  <thead>\n",
              "    <tr style=\"text-align: right;\">\n",
              "      <th></th>\n",
              "      <th>Hyper-Tuned Model</th>\n",
              "      <th>Accuracy</th>\n",
              "    </tr>\n",
              "  </thead>\n",
              "  <tbody>\n",
              "    <tr>\n",
              "      <th>1</th>\n",
              "      <td>SVM</td>\n",
              "      <td>0.825299</td>\n",
              "    </tr>\n",
              "    <tr>\n",
              "      <th>0</th>\n",
              "      <td>Logistic Regression</td>\n",
              "      <td>0.825224</td>\n",
              "    </tr>\n",
              "    <tr>\n",
              "      <th>2</th>\n",
              "      <td>Random Forest</td>\n",
              "      <td>0.816679</td>\n",
              "    </tr>\n",
              "  </tbody>\n",
              "</table>\n",
              "</div>"
            ],
            "text/plain": [
              "     Hyper-Tuned Model  Accuracy\n",
              "1                  SVM  0.825299\n",
              "0  Logistic Regression  0.825224\n",
              "2        Random Forest  0.816679"
            ]
          },
          "metadata": {
            "tags": []
          },
          "execution_count": 448
        }
      ]
    },
    {
      "cell_type": "markdown",
      "metadata": {
        "id": "9mOAUCuuHOn9"
      },
      "source": [
        "It seems that hyper-tuned SVM and Logistic Regression have approximately the same performance. For our predictions, we will implement the Logistic Regression classifier."
      ]
    },
    {
      "cell_type": "markdown",
      "metadata": {
        "id": "sITuzgtmEuXd"
      },
      "source": [
        "## Final Prediction & Submission\r\n",
        "\r\n",
        "Finally, train our LR model using the entire training set and predict survivability for the test set. Save prediction as a csv file."
      ]
    },
    {
      "cell_type": "code",
      "metadata": {
        "id": "h0zuo3JhLC8s"
      },
      "source": [
        "model = LogisticRegression(C=1, class_weight=None, dual=False, fit_intercept=True,\r\n",
        "                   intercept_scaling=1, l1_ratio=None, max_iter=100,\r\n",
        "                   multi_class='auto', n_jobs=None, penalty='l2',\r\n",
        "                   random_state=None, solver='lbfgs', tol=0.0001, verbose=0,\r\n",
        "                   warm_start=False)\r\n",
        "\r\n",
        "model.fit(Xtrain_all, ytrain_all)\r\n",
        "final_prediction = model.predict(Xtest)"
      ],
      "execution_count": 474,
      "outputs": []
    },
    {
      "cell_type": "code",
      "metadata": {
        "colab": {
          "base_uri": "https://localhost:8080/",
          "height": 17
        },
        "id": "rBJE8VsYGuxf",
        "outputId": "b7dd07a8-2d1a-435d-a43b-bcaff41e0c49"
      },
      "source": [
        "submission = pd.DataFrame(ids)\r\n",
        "submission['Survived'] = final_prediction\r\n",
        "submission.to_csv('titanicmain_submission.csv', index=False)\r\n",
        "\r\n",
        "files.download('titanicmain_submission.csv')"
      ],
      "execution_count": 476,
      "outputs": [
        {
          "output_type": "display_data",
          "data": {
            "application/javascript": [
              "\n",
              "    async function download(id, filename, size) {\n",
              "      if (!google.colab.kernel.accessAllowed) {\n",
              "        return;\n",
              "      }\n",
              "      const div = document.createElement('div');\n",
              "      const label = document.createElement('label');\n",
              "      label.textContent = `Downloading \"${filename}\": `;\n",
              "      div.appendChild(label);\n",
              "      const progress = document.createElement('progress');\n",
              "      progress.max = size;\n",
              "      div.appendChild(progress);\n",
              "      document.body.appendChild(div);\n",
              "\n",
              "      const buffers = [];\n",
              "      let downloaded = 0;\n",
              "\n",
              "      const channel = await google.colab.kernel.comms.open(id);\n",
              "      // Send a message to notify the kernel that we're ready.\n",
              "      channel.send({})\n",
              "\n",
              "      for await (const message of channel.messages) {\n",
              "        // Send a message to notify the kernel that we're ready.\n",
              "        channel.send({})\n",
              "        if (message.buffers) {\n",
              "          for (const buffer of message.buffers) {\n",
              "            buffers.push(buffer);\n",
              "            downloaded += buffer.byteLength;\n",
              "            progress.value = downloaded;\n",
              "          }\n",
              "        }\n",
              "      }\n",
              "      const blob = new Blob(buffers, {type: 'application/binary'});\n",
              "      const a = document.createElement('a');\n",
              "      a.href = window.URL.createObjectURL(blob);\n",
              "      a.download = filename;\n",
              "      div.appendChild(a);\n",
              "      a.click();\n",
              "      div.remove();\n",
              "    }\n",
              "  "
            ],
            "text/plain": [
              "<IPython.core.display.Javascript object>"
            ]
          },
          "metadata": {
            "tags": []
          }
        },
        {
          "output_type": "display_data",
          "data": {
            "application/javascript": [
              "download(\"download_8c7574d5-f646-415a-92fc-69b5900fb893\", \"titanicmain_submission.csv\", 2839)"
            ],
            "text/plain": [
              "<IPython.core.display.Javascript object>"
            ]
          },
          "metadata": {
            "tags": []
          }
        }
      ]
    }
  ]
}